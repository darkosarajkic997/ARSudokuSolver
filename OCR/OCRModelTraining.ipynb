{
 "cells": [
  {
   "cell_type": "code",
   "execution_count": 1,
   "source": [
    "import numpy as np\r\n",
    "import pandas as pd\r\n",
    "import matplotlib.pyplot as plt\r\n",
    "import cv2\r\n",
    "import os\r\n",
    "import tensorflow as tf\r\n",
    "import time\r\n",
    "from tensorflow.keras.preprocessing.image import ImageDataGenerator\r\n",
    "\r\n",
    "%matplotlib inline"
   ],
   "outputs": [],
   "metadata": {}
  },
  {
   "cell_type": "markdown",
   "source": [
    "# DIGITS DATASET\r\n"
   ],
   "metadata": {}
  },
  {
   "cell_type": "code",
   "execution_count": 2,
   "source": [
    "SOURCE_IMAGE=\"F:\\\\ML Projects\\\\CUBIC Praksa\\\\SudokuSolver\\\\Data\\\\Digits\"\r\n",
    "DATASET_FOLDER=\"F:\\\\ML Projects\\\\CUBIC Praksa\\\\SudokuSolver\\\\Data\\\\Dataset\""
   ],
   "outputs": [],
   "metadata": {}
  },
  {
   "cell_type": "markdown",
   "source": [
    "### resize image and invert colors"
   ],
   "metadata": {}
  },
  {
   "cell_type": "code",
   "execution_count": 3,
   "source": [
    "folder_names=[1,2,3,4,5,6,7,8,9]\r\n",
    "def image_preprocessing(names=folder_names,source_folder=SOURCE_IMAGE, destination_folder=DATASET_FOLDER, threshold=True):\r\n",
    "    for folder_name in names:\r\n",
    "        folder=f\"{source_folder}\\\\{folder_name}\"\r\n",
    "        for i in os.listdir(folder):\r\n",
    "            file = f\"{folder}\\\\{i}\"\r\n",
    "            img = cv2.imread(file)\r\n",
    "            img = cv2.resize(img,(50, 50))\r\n",
    "            if(threshold):\r\n",
    "                _,img=cv2.threshold(img,127,255,cv2.THRESH_BINARY_INV)\r\n",
    "            dest_file=f\"{destination_folder}\\\\{folder_name}\\\\{i}\"\r\n",
    "            cv2.imwrite(dest_file,img)"
   ],
   "outputs": [],
   "metadata": {}
  },
  {
   "cell_type": "markdown",
   "source": [
    "image_preprocessing()"
   ],
   "metadata": {}
  },
  {
   "cell_type": "code",
   "execution_count": 4,
   "source": [
    "augmented_image_gen = ImageDataGenerator(\r\n",
    "    rotation_range=2,\r\n",
    "    width_shift_range=.1,\r\n",
    "    height_shift_range=.1,\r\n",
    "    zoom_range=0.1,\r\n",
    "    shear_range=2,\r\n",
    "    brightness_range=[0.9, 1.1],\r\n",
    "    validation_split=0.2,\r\n",
    "    samplewise_center=True,\r\n",
    "    samplewise_std_normalization=True)\r\n",
    "\r\n",
    "normal_image_gen = ImageDataGenerator(\r\n",
    "    validation_split=0.2,\r\n",
    "    samplewise_center=True,\r\n",
    "    samplewise_std_normalization=True\r\n",
    ")"
   ],
   "outputs": [],
   "metadata": {}
  },
  {
   "cell_type": "code",
   "execution_count": 54,
   "source": [
    "BATCH_SIZE=64\r\n",
    "IMG_H = 50\r\n",
    "IMG_W = 50"
   ],
   "outputs": [],
   "metadata": {}
  },
  {
   "cell_type": "code",
   "execution_count": 55,
   "source": [
    "train_data_gen = augmented_image_gen.flow_from_directory(batch_size=BATCH_SIZE,\r\n",
    "                                                    directory=DATASET_FOLDER,\r\n",
    "                                                    color_mode=\"grayscale\",\r\n",
    "                                                    shuffle=True,\r\n",
    "                                                    target_size=(IMG_H, IMG_W),\r\n",
    "                                                    class_mode=\"categorical\",\r\n",
    "                                                    seed=65657867,\r\n",
    "                                                    subset='training'                                              \r\n",
    "                                                    )\r\n",
    "val_data_gen  = normal_image_gen.flow_from_directory(batch_size=BATCH_SIZE,\r\n",
    "                                                    directory=DATASET_FOLDER,\r\n",
    "                                                    color_mode=\"grayscale\",\r\n",
    "                                                    shuffle=True,\r\n",
    "                                                    target_size=(IMG_H, IMG_W),\r\n",
    "                                                    class_mode=\"categorical\",\r\n",
    "                                                    seed=65657867,\r\n",
    "                                                    subset='validation'\r\n",
    "                                                    )"
   ],
   "outputs": [
    {
     "output_type": "stream",
     "name": "stdout",
     "text": [
      "Found 7317 images belonging to 9 classes.\n",
      "Found 1827 images belonging to 9 classes.\n"
     ]
    }
   ],
   "metadata": {}
  },
  {
   "cell_type": "markdown",
   "source": [
    "train_dataset=tf.keras.preprocessing.image_dataset_from_directory(\r\n",
    "    directory=DATASET_FOLDER,\r\n",
    "    labels=\"inferred\",\r\n",
    "    label_mode=\"int\",\r\n",
    "    color_mode=\"grayscale\",\r\n",
    "    image_size=(img_height, img_width),\r\n",
    "    seed=123,\r\n",
    "    batch_size=64,\r\n",
    "    validation_split=0.15,\r\n",
    "    subset=\"training\")\r\n",
    "\r\n",
    "validation_dataset=tf.keras.preprocessing.image_dataset_from_directory(\r\n",
    "    directory=DATASET_FOLDER,\r\n",
    "    labels=\"inferred\",\r\n",
    "    label_mode=\"int\",\r\n",
    "    color_mode=\"grayscale\",\r\n",
    "    image_size=(img_height, img_width),\r\n",
    "    seed=123,\r\n",
    "    batch_size=64,\r\n",
    "    validation_split=0.15,\r\n",
    "    subset=\"validation\")\r\n",
    "\r\n"
   ],
   "metadata": {}
  },
  {
   "cell_type": "code",
   "execution_count": 56,
   "source": [
    "import matplotlib.pyplot as plt\r\n",
    "\r\n",
    "# This function will plot images in the form of a grid with 1 row and 5 columns where images are placed in each column.\r\n",
    "def plot_images(images_arr, imageWidth, imageHeight):\r\n",
    "    fig, axes = plt.subplots(1, 5, figsize=(20, 20))\r\n",
    "    axes = axes.flatten()\r\n",
    "    for img, ax in zip(images_arr, axes):\r\n",
    "        ax.imshow(img.reshape(imageWidth, imageHeight), cmap=\"gray\")\r\n",
    "        ax.axis(\"off\")\r\n",
    "    plt.tight_layout()\r\n",
    "    plt.show()"
   ],
   "outputs": [],
   "metadata": {}
  },
  {
   "cell_type": "code",
   "execution_count": 57,
   "source": [
    "sample_training_images, _ = next(train_data_gen)\r\n",
    "plot_images(sample_training_images[:5], IMG_W, IMG_H)"
   ],
   "outputs": [
    {
     "output_type": "display_data",
     "data": {
      "text/plain": [
       "<Figure size 1440x1440 with 5 Axes>"
      ],
      "image/svg+xml": "<?xml version=\"1.0\" encoding=\"utf-8\" standalone=\"no\"?>\r\n<!DOCTYPE svg PUBLIC \"-//W3C//DTD SVG 1.1//EN\"\r\n  \"http://www.w3.org/Graphics/SVG/1.1/DTD/svg11.dtd\">\r\n<svg height=\"289.44pt\" version=\"1.1\" viewBox=\"0 0 1432.8 289.44\" width=\"1432.8pt\" xmlns=\"http://www.w3.org/2000/svg\" xmlns:xlink=\"http://www.w3.org/1999/xlink\">\r\n <metadata>\r\n  <rdf:RDF xmlns:cc=\"http://creativecommons.org/ns#\" xmlns:dc=\"http://purl.org/dc/elements/1.1/\" xmlns:rdf=\"http://www.w3.org/1999/02/22-rdf-syntax-ns#\">\r\n   <cc:Work>\r\n    <dc:type rdf:resource=\"http://purl.org/dc/dcmitype/StillImage\"/>\r\n    <dc:date>2021-08-30T16:02:14.344306</dc:date>\r\n    <dc:format>image/svg+xml</dc:format>\r\n    <dc:creator>\r\n     <cc:Agent>\r\n      <dc:title>Matplotlib v3.4.3, https://matplotlib.org/</dc:title>\r\n     </cc:Agent>\r\n    </dc:creator>\r\n   </cc:Work>\r\n  </rdf:RDF>\r\n </metadata>\r\n <defs>\r\n  <style type=\"text/css\">*{stroke-linecap:butt;stroke-linejoin:round;}</style>\r\n </defs>\r\n <g id=\"figure_1\">\r\n  <g id=\"patch_1\">\r\n   <path d=\"M 0 289.44 \r\nL 1432.8 289.44 \r\nL 1432.8 0 \r\nL 0 0 \r\nz\r\n\" style=\"fill:none;\"/>\r\n  </g>\r\n  <g id=\"axes_1\">\r\n   <g clip-path=\"url(#p60282d39bb)\">\r\n    <image height=\"276\" id=\"imaged6455a8a2c\" transform=\"scale(1 -1)translate(0 -276)\" width=\"276\" x=\"7.2\" xlink:href=\"data:image/png;base64,\r\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\" y=\"-6.24\"/>\r\n   </g>\r\n  </g>\r\n  <g id=\"axes_2\">\r\n   <g clip-path=\"url(#p1b95f8a153)\">\r\n    <image height=\"276\" id=\"image083b33897a\" transform=\"scale(1 -1)translate(0 -276)\" width=\"276\" x=\"293.04\" xlink:href=\"data:image/png;base64,\r\niVBORw0KGgoAAAANSUhEUgAAARQAAAEUCAYAAADqcMl5AAAL2UlEQVR4nO3dXWiW5R8H8HvNuVmUnbReMAsrCUcWbZBBRXaSSTRrijQoI7NBdJCWNUMIxDTpZRGEGnWUSFQQShQeeBCiHUmG4ogmCSVJRPbulrP+J0F/uK7Hms/vfvbs2edz+OVi94+pXy6u6/F+moqi+KsACHDOeA8ANA6FAoRRKEAYhQKEUShAGIUChFEoQBiFAoRRKEAYhQKEUShAGIUChFEoQBiFAoRRKEAYhQKEmTLeAzS6rq6ubN7X15dkbW1t2bW5vNLa1tbWJPv555+zaxcvXpzN4WzZoQBhFAoQRqEAYRQKEKap8Nb7M8odqs6fPz+7NndQ2tnZmV3b3d1d3WBjMDw8nM337duXZNOmTcuurXQIfPvttydZpUNgGp8dChBGoQBhFAoQRqEAYRQKEGZS3vJ0dHQk2dy5c7Nr77333iRbsmRJ+EwT1WeffZZkzc3N2bU9PT1JNjQ0FD4T48cOBQijUIAwCgUIo1CAMA19KHvllVdm8w0bNiTZ/fffX/I0DA4OJllvb2927YEDB0qehjLYoQBhFAoQRqEAYRQKEEahAGEa5panvb09yV588cXs2gcffLDscf7VN998k2Tvv/9+dm3uBUknT57Mrm1paUmytWvXjnG62jl8+HA2f/TRR5Ns7969ZY9DlexQgDAKBQijUIAwCgUIM+G+ivS8887L5hs3bkyyWh++Hj9+PMkqHSTmPlq+fv36qmfIfRXpyMhIdm3usHfdunXZtZXehl+tOXPmZPM33ngjyVatWpVdu2vXrtCZOHt2KEAYhQKEUShAGIUChFEoQJgJd8vz8ssvZ/OHH364lOf98MMPSXbkyJHs2t27dyfZmjVrwmc6k9yNzlhuj0ZHR7N5U1NTNl+9enWSXXrppf/5eZXkbn8uueSSqn8u5bJDAcIoFCCMQgHCKBQgzIQ7lD116lRNn/fhhx8m2bJly2o6Qy29+uqrY1r/0EMPJVnEoWzOE088kc1//PHHJNuxY0cpM3BmdihAGIUChFEoQBiFAoRRKECYur7l2bRpU5ItX768lGdVuj3KvYSIf2zZsiXJnnnmmezaK664oqpn3XDDDdl81qxZVf1c4tihAGEUChBGoQBhFAoQpq4PZc8999wkK+vt69u3b8/mfX19pTyvUWzevDnJenp6smurPZStZOrUqaX8XMbODgUIo1CAMAoFCKNQgDAKBQhT17c8p0+frtmzmpuba/asRlfrl2C1tLTU9HlUZocChFEoQBiFAoRRKECYuj6UreXhno9vx6n1oaw/u/phhwKEUShAGIUChFEoQBiFAoRxy/M3H9+OMzo6WtPnTZlS13+NJxU7FCCMQgHCKBQgjEIBwtT1aVYtD2Ud7MXxPpTJyw4FCKNQgDAKBQijUIAwCgUIU9dXGz56X/8uv/zyJLvgggtqOoM/u/phhwKEUShAGIUChFEoQBiHsn/r7OzM5gMDA0m2cuXKssepO9OnT8/mW7ZsSbIFCxaUMsPRo0ez+eDgYCnPY+zsUIAwCgUIo1CAMAoFCKNQgDB1fcuzZ8+eJNu5c2d27T333FPVsy666KJsvmzZsiRrbW3Nrn3ssceqmqGebdu2LZsvXLiwlOcdP348yXI3bkVRFFu3bi1lBsbODgUIo1CAMAoFCKNQgDBNRVH8Nd5DjEVXV1c27+/vT7Kenp5SZvjll1+y+bvvvptkjzzySCkzlOWDDz7I5t3d3dm8qampquf99NNP2Xz9+vVJ9tJLL1X1LMpnhwKEUShAGIUChFEoQBiFAoSZcLc8lcydOzfJnn322ezapUuXljLD8PBwku3YsSO7tq2tLckqzTUyMlLVXO+88042nzdvXpJdfPHF2bW5eccq98Ks5557Lrt248aNVT+P2rNDAcIoFCCMQgHCKBQgTMMcyubMnj07m+cOAnt7e8se519VOsBtbm5OskqHpLn8+uuvz649//zzxzBd9XK/93Xr1tV0BsplhwKEUShAGIUChFEoQBiFAoRp6FueSmbOnJlkuRf6FEVRPPDAA2WP03Aq/S6ff/75JMv9dwUmLjsUIIxCAcIoFCCMQgHCTMpD2Zz29vZsnvu4+J9//pld+/jjj4fOVE8qvZ9k+/btSXbs2LHs2hMnToTORP2xQwHCKBQgjEIBwigUIIxCAcJMGe8B6sV3332XzVetWpVkK1asKHucunPfffdl84MHDybZoUOHyh6HOmWHAoRRKEAYhQKEUShAGIUChPF/ef7W2tqazZcsWZJkb7/9dtnjTBhffvllkm3atCm79q233ip7HMaZHQoQRqEAYRQKEEahAGEm5aHs1KlTk+zOO+/Mrt25c2fZ4/yrbdu2JdnRo0eza5cuXZpk11xzTfRIZ3TkyJFsPjAwkGSvv/562eNQQ3YoQBiFAoRRKEAYhQKEUShAmIZ+wVJzc3M2nzdvXpLV+jbno48+SrLvv/8+uzb3VR6VbnmGhoaS7KqrrsquXbhwYZJ1dnZm145Fpec9+eSTSZa7cSuK/I0Q9c8OBQijUIAwCgUIo1CAMA390fsbb7wxm+/fv79mM3z66afZPPeelUrfCVyWRYsWJdnTTz+dXXvzzTeXMsPXX3+dzTdv3pxklb5fmfphhwKEUShAGIUChFEoQBiFAoRpmFuea6+9NskGBwdrOsMXX3yRZPPnz8+u/fbbb8se56zcdddd2by/vz+b33bbbaXMsWvXriRbsGBBKc8ijh0KEEahAGEUChBGoQBhGuZ9KKOjo+M9QnHHHXckWb0evlby8ccfZ/Prrrsum5d1KNvR0ZFka9asya71kfz6YYcChFEoQBiFAoRRKEAYhQKEmXC3PFdffXU2/+STT2o2w++//57Nzzmncfv5888/z+Z79uxJsltvvbXq582YMSPJFi9enF3rlqd+NO6/AKDmFAoQRqEAYRQKEGbCHcpWctlll9XsWbNnz87mtX5rfS3l3k9SFPnD04hD2ZyWlpZSfi5x7FCAMAoFCKNQgDAKBQijUIAwE+6Wpx5epNTIH7Efq1r+eUyZMuH+uk46/mUAYRQKEEahAGEUChBmwp1y1cOhrI+A/+OPP/6o2bP83uufHQoQRqEAYRQKEEahAGEUChBmwt3ynDp1arxHmJS3DdOnT8/mM2fOrNkMk/H3PtHYoQBhFAoQRqEAYRQKEGbCHcqeOHEim69YsSLJtm7dml1b7ftM3nvvvWze29ubZIcOHarqWfXi7rvvzuYvvPBCKc/79ddfk2z37t2lPIs4dihAGIUChFEoQBiFAoRRKECYpqIo/hrvISI0Nzcn2W+//ZZd29raWsoMt9xyS5Lt3bu3lGeVZdq0adk8d4NVFEXx5ptvljLHV199lWSzZs0q5VnEsUMBwigUIIxCAcIoFCDMhPvofSWnT59OskrvTinrUPaVV15JstxHyIuiKDZs2JBktf5o+fLly5Os0n9XyB16R6j01vyhoaFSnke57FCAMAoFCKNQgDAKBQijUIAwDfPR+5ynnnoqm69duzbJKr3VvSwHDx5Mskovj2pra/tPWVHkb7Aqrb3wwguTrMzfQ+4mbv/+/dm1N910U2lzUB47FCCMQgHCKBQgjEIBwjT0oWwlK1euTLL+/v7s2vb29rLHmTQOHz6cZB0dHeMwCWWxQwHCKBQgjEIBwigUIIxCAcI0zAuWxmJgYCDJch8LL4qiWL16dZLNmDEjfKZGUun7nLu6umo8CbVmhwKEUShAGIUChFEoQJhJeSib89prr2Xz3JvzKx3Knjx5MskWLVqUXdvZ2fnfh6uhffv2ZfO+vr5sPjw8nGSV3vQ/MjJy9oMxIdihAGEUChBGoQBhFAoQRqEAYSblC5Zqqbu7O5vPmTMnyXI3JpXySmtz3xU8lp977Nix7NoDBw5kc/h/dihAGIUChFEoQBiFAoRxKAuEsUMBwigUIIxCAcIoFCCMQgHCKBQgjEIBwigUIIxCAcIoFCCMQgHCKBQgjEIBwigUIIxCAcIoFCCMQgHCKBQgjEIBwigUIIxCAcIoFCCMQgHCKBQgjEIBwigUIIxCAcL8D88aLoMbvcgnAAAAAElFTkSuQmCC\" y=\"-6.24\"/>\r\n   </g>\r\n  </g>\r\n  <g id=\"axes_3\">\r\n   <g clip-path=\"url(#p9aaa355b5f)\">\r\n    <image height=\"276\" id=\"image9825538cea\" transform=\"scale(1 -1)translate(0 -276)\" width=\"276\" x=\"578.88\" xlink:href=\"data:image/png;base64,\r\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\" y=\"-6.24\"/>\r\n   </g>\r\n  </g>\r\n  <g id=\"axes_4\">\r\n   <g clip-path=\"url(#p5d748ca40b)\">\r\n    <image height=\"276\" id=\"image4a7c63504d\" transform=\"scale(1 -1)translate(0 -276)\" width=\"276\" x=\"864.72\" xlink:href=\"data:image/png;base64,\r\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\" y=\"-6.24\"/>\r\n   </g>\r\n  </g>\r\n  <g id=\"axes_5\">\r\n   <g clip-path=\"url(#p76f122e291)\">\r\n    <image height=\"276\" id=\"imagea8a05c6717\" transform=\"scale(1 -1)translate(0 -276)\" width=\"276\" x=\"1150.56\" xlink:href=\"data:image/png;base64,\r\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\" y=\"-6.24\"/>\r\n   </g>\r\n  </g>\r\n </g>\r\n <defs>\r\n  <clipPath id=\"p60282d39bb\">\r\n   <rect height=\"275.04\" width=\"275.04\" x=\"7.2\" y=\"7.2\"/>\r\n  </clipPath>\r\n  <clipPath id=\"p1b95f8a153\">\r\n   <rect height=\"275.04\" width=\"275.04\" x=\"293.04\" y=\"7.2\"/>\r\n  </clipPath>\r\n  <clipPath id=\"p9aaa355b5f\">\r\n   <rect height=\"275.04\" width=\"275.04\" x=\"578.88\" y=\"7.2\"/>\r\n  </clipPath>\r\n  <clipPath id=\"p5d748ca40b\">\r\n   <rect height=\"275.04\" width=\"275.04\" x=\"864.72\" y=\"7.2\"/>\r\n  </clipPath>\r\n  <clipPath id=\"p76f122e291\">\r\n   <rect height=\"275.04\" width=\"275.04\" x=\"1150.56\" y=\"7.2\"/>\r\n  </clipPath>\r\n </defs>\r\n</svg>\r\n",
      "image/png": "[encoded data removed]"
     },
     "metadata": {
      "needs_background": "light"
     }
    }
   ],
   "metadata": {}
  },
  {
   "cell_type": "code",
   "execution_count": 97,
   "source": [
    "num_classes = 9\r\n",
    "\r\n",
    "model = tf.keras.Sequential([\r\n",
    "  tf.keras.layers.Rescaling(1./255,input_shape=(IMG_H,IMG_W,1)),\r\n",
    "  tf.keras.layers.Conv2D(32, 5, padding='same', activation='relu'),\r\n",
    "  tf.keras.layers.MaxPooling2D(pool_size=(5, 5)),\r\n",
    "  tf.keras.layers.Conv2D(64, 5, padding='same', activation='relu'),\r\n",
    "  tf.keras.layers.MaxPooling2D(pool_size=(5, 5)),\r\n",
    "  tf.keras.layers.Flatten(),\r\n",
    "  tf.keras.layers.Dropout(0.3),\r\n",
    "  tf.keras.layers.Dense(60, activation='relu'),\r\n",
    "  tf.keras.layers.Dropout(0.3),\r\n",
    "  tf.keras.layers.Dense(num_classes,activation='softmax')\r\n",
    "])"
   ],
   "outputs": [],
   "metadata": {}
  },
  {
   "cell_type": "code",
   "execution_count": 98,
   "source": [
    "model.compile(optimizer='adam',loss='categorical_crossentropy',metrics=['accuracy'])"
   ],
   "outputs": [],
   "metadata": {}
  },
  {
   "cell_type": "code",
   "execution_count": 99,
   "source": [
    "model.summary()"
   ],
   "outputs": [
    {
     "output_type": "stream",
     "name": "stdout",
     "text": [
      "Model: \"sequential_16\"\n",
      "_________________________________________________________________\n",
      "Layer (type)                 Output Shape              Param #   \n",
      "=================================================================\n",
      "rescaling_16 (Rescaling)     (None, 50, 50, 1)         0         \n",
      "_________________________________________________________________\n",
      "conv2d_30 (Conv2D)           (None, 50, 50, 32)        832       \n",
      "_________________________________________________________________\n",
      "max_pooling2d_30 (MaxPooling (None, 10, 10, 32)        0         \n",
      "_________________________________________________________________\n",
      "conv2d_31 (Conv2D)           (None, 10, 10, 64)        51264     \n",
      "_________________________________________________________________\n",
      "max_pooling2d_31 (MaxPooling (None, 2, 2, 64)          0         \n",
      "_________________________________________________________________\n",
      "flatten_16 (Flatten)         (None, 256)               0         \n",
      "_________________________________________________________________\n",
      "dropout_26 (Dropout)         (None, 256)               0         \n",
      "_________________________________________________________________\n",
      "dense_32 (Dense)             (None, 60)                15420     \n",
      "_________________________________________________________________\n",
      "dropout_27 (Dropout)         (None, 60)                0         \n",
      "_________________________________________________________________\n",
      "dense_33 (Dense)             (None, 9)                 549       \n",
      "=================================================================\n",
      "Total params: 68,065\n",
      "Trainable params: 68,065\n",
      "Non-trainable params: 0\n",
      "_________________________________________________________________\n"
     ]
    }
   ],
   "metadata": {}
  },
  {
   "cell_type": "code",
   "execution_count": 100,
   "source": [
    "epochs=35\r\n",
    "\r\n",
    "history = model.fit(\r\n",
    "  train_data_gen,\r\n",
    "  steps_per_epoch=train_data_gen.samples // (BATCH_SIZE*1.5),\r\n",
    "  validation_data=val_data_gen,\r\n",
    "  validation_steps=val_data_gen.samples // (BATCH_SIZE*1.5),\r\n",
    "  epochs=epochs\r\n",
    ")"
   ],
   "outputs": [
    {
     "output_type": "stream",
     "name": "stdout",
     "text": [
      "Epoch 1/35\n",
      "76/76 [==============================] - 14s 177ms/step - loss: 2.1821 - accuracy: 0.1519 - val_loss: 2.0862 - val_accuracy: 0.3635\n",
      "Epoch 2/35\n",
      "76/76 [==============================] - 13s 169ms/step - loss: 1.7421 - accuracy: 0.3821 - val_loss: 1.0067 - val_accuracy: 0.8446\n",
      "Epoch 3/35\n",
      "76/76 [==============================] - 13s 177ms/step - loss: 1.1068 - accuracy: 0.6173 - val_loss: 0.5608 - val_accuracy: 0.9359\n",
      "Epoch 4/35\n",
      "76/76 [==============================] - 14s 178ms/step - loss: 0.7900 - accuracy: 0.7422 - val_loss: 0.3368 - val_accuracy: 0.9482\n",
      "Epoch 5/35\n",
      "76/76 [==============================] - 13s 176ms/step - loss: 0.5768 - accuracy: 0.8216 - val_loss: 0.2431 - val_accuracy: 0.9531\n",
      "Epoch 6/35\n",
      "76/76 [==============================] - 13s 173ms/step - loss: 0.4535 - accuracy: 0.8631 - val_loss: 0.1873 - val_accuracy: 0.9581\n",
      "Epoch 7/35\n",
      "76/76 [==============================] - 14s 181ms/step - loss: 0.4167 - accuracy: 0.8703 - val_loss: 0.1518 - val_accuracy: 0.9688\n",
      "Epoch 8/35\n",
      "76/76 [==============================] - 14s 178ms/step - loss: 0.3643 - accuracy: 0.8880 - val_loss: 0.1424 - val_accuracy: 0.9704\n",
      "Epoch 9/35\n",
      "76/76 [==============================] - 13s 169ms/step - loss: 0.3401 - accuracy: 0.8938 - val_loss: 0.1439 - val_accuracy: 0.9605\n",
      "Epoch 10/35\n",
      "76/76 [==============================] - 17s 222ms/step - loss: 0.3135 - accuracy: 0.9065 - val_loss: 0.1068 - val_accuracy: 0.9745\n",
      "Epoch 11/35\n",
      "76/76 [==============================] - 14s 186ms/step - loss: 0.2799 - accuracy: 0.9121 - val_loss: 0.1195 - val_accuracy: 0.9720\n",
      "Epoch 12/35\n",
      "76/76 [==============================] - 17s 221ms/step - loss: 0.2645 - accuracy: 0.9139 - val_loss: 0.1019 - val_accuracy: 0.9729\n",
      "Epoch 13/35\n",
      "76/76 [==============================] - 15s 199ms/step - loss: 0.2505 - accuracy: 0.9216 - val_loss: 0.0928 - val_accuracy: 0.9770\n",
      "Epoch 14/35\n",
      "76/76 [==============================] - 8s 106ms/step - loss: 0.2432 - accuracy: 0.9253 - val_loss: 0.0890 - val_accuracy: 0.9745\n",
      "Epoch 15/35\n",
      "76/76 [==============================] - 8s 106ms/step - loss: 0.2303 - accuracy: 0.9299 - val_loss: 0.0991 - val_accuracy: 0.9762\n",
      "Epoch 16/35\n",
      "76/76 [==============================] - 8s 106ms/step - loss: 0.2196 - accuracy: 0.9324 - val_loss: 0.0841 - val_accuracy: 0.9786\n",
      "Epoch 17/35\n",
      "76/76 [==============================] - 9s 116ms/step - loss: 0.1972 - accuracy: 0.9369 - val_loss: 0.0877 - val_accuracy: 0.9762\n",
      "Epoch 18/35\n",
      "76/76 [==============================] - 9s 122ms/step - loss: 0.1992 - accuracy: 0.9373 - val_loss: 0.0738 - val_accuracy: 0.9770\n",
      "Epoch 19/35\n",
      "76/76 [==============================] - 9s 124ms/step - loss: 0.1976 - accuracy: 0.9396 - val_loss: 0.0616 - val_accuracy: 0.9860\n",
      "Epoch 20/35\n",
      "76/76 [==============================] - 9s 120ms/step - loss: 0.1745 - accuracy: 0.9486 - val_loss: 0.0756 - val_accuracy: 0.9844\n",
      "Epoch 21/35\n",
      "76/76 [==============================] - 9s 121ms/step - loss: 0.1807 - accuracy: 0.9469 - val_loss: 0.0544 - val_accuracy: 0.9836\n",
      "Epoch 22/35\n",
      "76/76 [==============================] - 9s 116ms/step - loss: 0.1645 - accuracy: 0.9519 - val_loss: 0.0664 - val_accuracy: 0.9803\n",
      "Epoch 23/35\n",
      "76/76 [==============================] - 10s 131ms/step - loss: 0.1785 - accuracy: 0.9452 - val_loss: 0.0600 - val_accuracy: 0.9836\n",
      "Epoch 24/35\n",
      "76/76 [==============================] - 10s 131ms/step - loss: 0.1566 - accuracy: 0.9554 - val_loss: 0.0451 - val_accuracy: 0.9868\n",
      "Epoch 25/35\n",
      "76/76 [==============================] - 11s 138ms/step - loss: 0.1526 - accuracy: 0.9525 - val_loss: 0.0468 - val_accuracy: 0.9852\n",
      "Epoch 26/35\n",
      "76/76 [==============================] - 11s 151ms/step - loss: 0.1491 - accuracy: 0.9527 - val_loss: 0.0534 - val_accuracy: 0.9836\n",
      "Epoch 27/35\n",
      "76/76 [==============================] - 10s 126ms/step - loss: 0.1490 - accuracy: 0.9519 - val_loss: 0.0424 - val_accuracy: 0.9893\n",
      "Epoch 28/35\n",
      "76/76 [==============================] - 8s 104ms/step - loss: 0.1532 - accuracy: 0.9533 - val_loss: 0.0510 - val_accuracy: 0.9868\n",
      "Epoch 29/35\n",
      "76/76 [==============================] - 8s 105ms/step - loss: 0.1279 - accuracy: 0.9591 - val_loss: 0.0473 - val_accuracy: 0.9860\n",
      "Epoch 30/35\n",
      "76/76 [==============================] - 8s 104ms/step - loss: 0.1328 - accuracy: 0.9595 - val_loss: 0.0516 - val_accuracy: 0.9836\n",
      "Epoch 31/35\n",
      "76/76 [==============================] - 8s 105ms/step - loss: 0.1319 - accuracy: 0.9593 - val_loss: 0.0480 - val_accuracy: 0.9877\n",
      "Epoch 32/35\n",
      "76/76 [==============================] - 8s 105ms/step - loss: 0.1294 - accuracy: 0.9579 - val_loss: 0.0359 - val_accuracy: 0.9901\n",
      "Epoch 33/35\n",
      "76/76 [==============================] - 8s 106ms/step - loss: 0.1236 - accuracy: 0.9643 - val_loss: 0.0402 - val_accuracy: 0.9918\n",
      "Epoch 34/35\n",
      "76/76 [==============================] - 8s 106ms/step - loss: 0.1196 - accuracy: 0.9618 - val_loss: 0.0300 - val_accuracy: 0.9918\n",
      "Epoch 35/35\n",
      "76/76 [==============================] - 8s 108ms/step - loss: 0.1067 - accuracy: 0.9665 - val_loss: 0.0482 - val_accuracy: 0.9868\n"
     ]
    }
   ],
   "metadata": {}
  },
  {
   "cell_type": "code",
   "execution_count": 96,
   "source": [
    "numbers_for_predictions_SUDOKU=range(0,33)\r\n",
    "values_SUDOKU=[8,1,9,5,8,7,1,4,9,7,6,7,1,2,5,8,6,1,7,1,5,2,9,7,4,6,8,3,9,4,3,5,8]\r\n",
    "\r\n",
    "numbers_for_predictions_1006=range(0,24)\r\n",
    "values_1006=[9,5,8,2,3,4,7,2,3,4,8,2,5,1,6,4,3,7,6,4,5,9,2,6]\r\n",
    "\r\n",
    "total_time=0\r\n",
    "\r\n",
    "predictions=[]\r\n",
    "for index,value in zip(numbers_for_predictions_SUDOKU,values_SUDOKU):    \r\n",
    "    file_name=(f\"F:\\\\ML Projects\\\\CUBIC Praksa\\\\SudokuSolver\\\\Data\\\\TestCells\\\\{index}.jpg\")\r\n",
    "    img=cv2.imread(file_name,cv2.IMREAD_GRAYSCALE)\r\n",
    "    _,img=cv2.threshold(img,127,255,cv2.THRESH_BINARY)\r\n",
    "    img_array = np.reshape(img,(1,50,50,1))\r\n",
    "    start=time.time()\r\n",
    "    prediction = model.predict_on_batch(img_array)\r\n",
    "    total_time+=(time.time()-start)\r\n",
    "    score = tf.nn.softmax(prediction[0])\r\n",
    "    predicted_class=int(int(np.argmax(score)+1))\r\n",
    "    \r\n",
    "    predictions.append(predicted_class)\r\n",
    "    if(predicted_class!=value):\r\n",
    "        print(f\"ERROR AT INDEX:{index}\")\r\n",
    "        print(predicted_class,value)\r\n",
    "    \r\n",
    "print(predictions)\r\n",
    "        "
   ],
   "outputs": [
    {
     "output_type": "stream",
     "name": "stdout",
     "text": [
      "ERROR AT INDEX:28\n",
      "6 9\n",
      "ERROR AT INDEX:32\n",
      "6 8\n",
      "[8, 1, 9, 5, 8, 7, 1, 4, 9, 7, 6, 7, 1, 2, 5, 8, 6, 1, 7, 1, 5, 2, 9, 7, 4, 6, 8, 3, 6, 4, 3, 5, 6]\n"
     ]
    }
   ],
   "metadata": {}
  },
  {
   "cell_type": "code",
   "execution_count": 24,
   "source": [
    "total_time"
   ],
   "outputs": [
    {
     "output_type": "execute_result",
     "data": {
      "text/plain": [
       "0.23136138916015625"
      ]
     },
     "metadata": {},
     "execution_count": 24
    }
   ],
   "metadata": {}
  },
  {
   "cell_type": "code",
   "execution_count": 33,
   "source": [
    "model.save(\"ocr_model_v1_gen\")"
   ],
   "outputs": [
    {
     "output_type": "stream",
     "name": "stdout",
     "text": [
      "INFO:tensorflow:Assets written to: ocr_model_v4_gen\\assets\n"
     ]
    }
   ],
   "metadata": {}
  },
  {
   "cell_type": "markdown",
   "source": [
    "# MNIST DATASET"
   ],
   "metadata": {}
  },
  {
   "cell_type": "markdown",
   "source": [
    "SOURCE_IMAGE_MNIST=\"F:\\\\ML Projects\\\\CUBIC Praksa\\\\ARSudokuSolver\\\\Data\\\\MNIST\\\\trainingSet\"\r\n",
    "DATASET_FOLDER_MNIST=\"F:\\\\ML Projects\\\\CUBIC Praksa\\\\ARSudokuSolver\\\\Data\\\\DatasetMNIST\""
   ],
   "metadata": {}
  },
  {
   "cell_type": "markdown",
   "source": [
    "image_preprocessing(source_folder=SOURCE_IMAGE_MNIST,destination_folder=DATASET_FOLDER_MNIST, threshold=False)"
   ],
   "metadata": {}
  },
  {
   "cell_type": "markdown",
   "source": [
    "img_height = 50\r\n",
    "img_width = 50\r\n",
    "\r\n",
    "train_dataset_MNIST=tf.keras.preprocessing.image_dataset_from_directory(\r\n",
    "    directory=DATASET_FOLDER_MNIST,\r\n",
    "    labels=\"inferred\",\r\n",
    "    label_mode=\"int\",\r\n",
    "    color_mode=\"grayscale\",\r\n",
    "    image_size=(img_height, img_width),\r\n",
    "    seed=123,\r\n",
    "    batch_size=32,\r\n",
    "    validation_split=0.15,\r\n",
    "    subset=\"training\")\r\n",
    "\r\n",
    "validation_dataset_MNIST=tf.keras.preprocessing.image_dataset_from_directory(\r\n",
    "    directory=DATASET_FOLDER_MNIST,\r\n",
    "    labels=\"inferred\",\r\n",
    "    label_mode=\"int\",\r\n",
    "    color_mode=\"grayscale\",\r\n",
    "    image_size=(img_height, img_width),\r\n",
    "    seed=123,\r\n",
    "    batch_size=32,\r\n",
    "    validation_split=0.15,\r\n",
    "    subset=\"validation\")"
   ],
   "metadata": {}
  },
  {
   "cell_type": "markdown",
   "source": [
    "import matplotlib.pyplot as plt\r\n",
    "\r\n",
    "plt.figure(figsize=(10, 10))\r\n",
    "for images, labels in train_dataset_MNIST.take(1):\r\n",
    "    for i in range(9):\r\n",
    "        ax = plt.subplot(3, 3, i + 1)\r\n",
    "        plt.imshow(images[i].numpy().astype(\"uint8\"), cmap='gray')\r\n",
    "        plt.axis(\"off\")"
   ],
   "metadata": {}
  },
  {
   "cell_type": "markdown",
   "source": [
    "AUTOTUNE = tf.data.AUTOTUNE\r\n",
    "\r\n",
    "train_ds = train_dataset_MNIST.cache().shuffle(1000).prefetch(buffer_size=AUTOTUNE)\r\n",
    "val_ds = validation_dataset_MNIST.cache().prefetch(buffer_size=AUTOTUNE)"
   ],
   "metadata": {}
  },
  {
   "cell_type": "markdown",
   "source": [
    "epochs=5\r\n",
    "\r\n",
    "history = model.fit(\r\n",
    "    train_dataset_MNIST,\r\n",
    "  validation_data=validation_dataset_MNIST,\r\n",
    "  epochs=epochs\r\n",
    ")"
   ],
   "metadata": {}
  },
  {
   "cell_type": "markdown",
   "source": [
    "numbers_for_predictions_SUDOKU=[0,4,8,10,12,14,16,20,22,24,28,30,32,34,36,38,40,42,44,46,48,50,52,56,58,60,64,66,68,70,72,76,80]\r\n",
    "values_SUDOKU=[8,1,9,5,8,7,1,4,9,7,6,7,1,2,5,8,6,1,7,1,5,2,9,7,4,6,8,3,9,4,3,5,8]\r\n",
    "\r\n",
    "numbers_for_predictions_1006=range(0,24)\r\n",
    "values_1006=[9,5,8,2,3,4,7,2,3,4,8,2,5,1,6,4,3,7,6,4,5,9,2,6]\r\n",
    "\r\n",
    "predictions=[]\r\n",
    "for index,value in zip(numbers_for_predictions_SUDOKU,values_SUDOKU):    \r\n",
    "    file_name=f\"F:\\\\ML Projects\\\\CUBIC Praksa\\\\ARSudokuSolver\\\\Data\\\\testCells\\\\{index}.jpg\"\r\n",
    "    img = keras.preprocessing.image.load_img(file_name, target_size=(img_height, img_width),color_mode='grayscale')\r\n",
    "    img_array = keras.preprocessing.image.img_to_array(img)\r\n",
    "    img_array = tf.expand_dims(img_array, 0)\r\n",
    "    prediction = model.predict(img_array)\r\n",
    "    score = tf.nn.softmax(prediction[0])\r\n",
    "    predicted_class=int(np.argmax(score))+1\r\n",
    "    predictions.append(predicted_class)\r\n",
    "    if(predicted_class!=value):\r\n",
    "        print(f\"ERROR AT INDEX:{index}\")\r\n",
    "        \r\n",
    "\r\n",
    "print(values_SUDOKU)\r\n",
    "print(predictions)"
   ],
   "metadata": {}
  },
  {
   "cell_type": "code",
   "execution_count": null,
   "source": [],
   "outputs": [],
   "metadata": {}
  }
 ],
 "metadata": {
  "orig_nbformat": 4,
  "language_info": {
   "name": "python",
   "version": "3.8.1",
   "mimetype": "text/x-python",
   "codemirror_mode": {
    "name": "ipython",
    "version": 3
   },
   "pygments_lexer": "ipython3",
   "nbconvert_exporter": "python",
   "file_extension": ".py"
  },
  "kernelspec": {
   "name": "python3",
   "display_name": "Python 3.8.1 64-bit ('env': venv)"
  },
  "interpreter": {
   "hash": "eed03943830ac5d39003c452a99e178473c2cdde9d9a77e83722cf8685482e57"
  }
 },
 "nbformat": 4,
 "nbformat_minor": 2
}